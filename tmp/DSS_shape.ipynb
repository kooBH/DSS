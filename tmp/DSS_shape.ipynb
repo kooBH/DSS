{
 "cells": [
  {
   "cell_type": "code",
   "execution_count": 1,
   "id": "78ee4851-ce40-4580-a382-2fc82aedc531",
   "metadata": {},
   "outputs": [
    {
     "name": "stderr",
     "output_type": "stream",
     "text": [
      "/home/kbh/.conda/envs/dnn/lib/python3.9/site-packages/tqdm/auto.py:22: TqdmWarning: IProgress not found. Please update jupyter and ipywidgets. See https://ipywidgets.readthedocs.io/en/stable/user_install.html\n",
      "  from .autonotebook import tqdm as notebook_tqdm\n"
     ]
    }
   ],
   "source": [
    "import torch"
   ]
  },
  {
   "cell_type": "code",
   "execution_count": 10,
   "id": "9fd7d11b-9861-4f28-84f9-1985b68c4d9d",
   "metadata": {},
   "outputs": [
    {
     "name": "stdout",
     "output_type": "stream",
     "text": [
      "torch.Size([2, 4, 64000])\n",
      "torch.Size([2, 257, 4, 500])\n",
      "torch.Size([2, 4, 257, 500])\n"
     ]
    }
   ],
   "source": [
    "x = torch.rand(2,4,64000)\n",
    "w = torch.rand(2,257,4,500,dtype  = torch.complex64)\n",
    "\n",
    "print(x.shape)\n",
    "print(w.shape)\n",
    "\n",
    "x = x.reshape(x.shape[0]*x.shape[1],x.shape[2])\n",
    "X = torch.stft(x,n_fft=512,return_complex=True)[:,:,:w.shape[3]]\n",
    "\n",
    "X = X.reshape(w.shape[0],w.shape[2],X.shape[1],X.shape[2])\n",
    "print(X.shape)\n",
    "\n"
   ]
  },
  {
   "cell_type": "code",
   "execution_count": null,
   "id": "9b42e5c8-5db8-40f2-aa45-53389a57f40f",
   "metadata": {},
   "outputs": [],
   "source": []
  }
 ],
 "metadata": {
  "kernelspec": {
   "display_name": "Python 3 (ipykernel)",
   "language": "python",
   "name": "python3"
  },
  "language_info": {
   "codemirror_mode": {
    "name": "ipython",
    "version": 3
   },
   "file_extension": ".py",
   "mimetype": "text/x-python",
   "name": "python",
   "nbconvert_exporter": "python",
   "pygments_lexer": "ipython3",
   "version": "3.9.12"
  }
 },
 "nbformat": 4,
 "nbformat_minor": 5
}
