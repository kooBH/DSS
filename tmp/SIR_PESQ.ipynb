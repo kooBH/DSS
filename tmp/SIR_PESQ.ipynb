{
 "cells": [
  {
   "cell_type": "code",
   "execution_count": 6,
   "id": "004db155-538e-4a84-9b80-a6993f847d9e",
   "metadata": {},
   "outputs": [],
   "source": [
    "from pesq import pesq\n",
    "import librosa\n",
    "import numpy as np\n",
    "import torch"
   ]
  },
  {
   "cell_type": "markdown",
   "id": "5c945ac2-efc8-4810-82ae-b036304a4c6a",
   "metadata": {},
   "source": [
    "# SIR (Signal to Interference Ratio)\n",
    "\n",
    "\n",
    "```MATLAB\n",
    "% Copyright 2008 Emmanuel Vincent\n",
    "% This software is distributed under the terms of the GNU Public License\n",
    "% version 3 (http://www.gnu.org/licenses/gpl.txt)\n",
    "% If you find it useful, please cite the following reference:\n",
    "% Emmanuel Vincent, C�dric F�votte and R�mi Gribonval, \"Performance\n",
    "% measurement in blind audio source separation,\" IEEE Trans. on Audio,\n",
    "% Speech and Language Processing, 14(4):1462-1469, 2006.\n",
    "```\n",
    "\n",
    "https://ieeexplore.ieee.org/stamp/stamp.jsp?tp=&arnumber=1643671"
   ]
  },
  {
   "cell_type": "code",
   "execution_count": 39,
   "id": "a58fc208-556f-434f-9cfc-612cfd28e9bd",
   "metadata": {},
   "outputs": [
    {
     "name": "stdout",
     "output_type": "stream",
     "text": [
      "target 0 : (16000,)\n",
      "target 1 : (16000,)\n",
      "target 2 : (16000,)\n",
      "target 3 : (16000,)\n",
      "365.9735\n",
      "s_target[0] : (16000,)\n",
      "533.4289\n",
      "s_target[1] : (16000,)\n",
      "301.60977\n",
      "s_target[2] : (16000,)\n",
      "507.89514\n",
      "s_target[3] : (16000,)\n",
      "0\n",
      "(16000,)\n",
      "(16000,)\n",
      "SIR : 19.378488063812256\n",
      "PESQ(wb) : 1.2397656440734863\n",
      "PESQ(nb) : 1.6209020614624023\n",
      "1\n",
      "(16000,)\n",
      "(16000,)\n",
      "SIR : 18.61210823059082\n",
      "PESQ(wb) : 2.105191469192505\n",
      "PESQ(nb) : 2.6784563064575195\n",
      "2\n",
      "(16000,)\n",
      "(16000,)\n",
      "SIR : 9.921001195907593\n",
      "PESQ(wb) : 1.8335928916931152\n",
      "PESQ(nb) : 2.3431551456451416\n",
      "3\n",
      "(16000,)\n",
      "(16000,)\n",
      "SIR : 15.172652006149292\n",
      "PESQ(wb) : 1.7513091564178467\n",
      "PESQ(nb) : 1.973534345626831\n"
     ]
    }
   ],
   "source": [
    "estim=[]\n",
    "\n",
    "target=[]\n",
    "for i in range(4) : \n",
    "    tmp_target, _ = librosa.load(\"target_\"+str(i)+\".wav\",sr=16000)\n",
    "    tmp_estim, _  = librosa.load(\"39_\"+str(i)+\".wav\",sr=16000)\n",
    "    \n",
    "    print(\"target {} : {}\".format(i,tmp_target.shape))\n",
    "\n",
    "    target.append(tmp_target)\n",
    "    estim.append(tmp_estim)\n",
    "\n",
    "s_target = []\n",
    "e_interf = []\n",
    "    \n",
    "for i in range(4) : \n",
    "    s_target.append(np.inner(estim[i],target[i])*target[i]/np.inner(target[i],target[i]))\n",
    "    print(\"s_target[{}] : {}\".format(i,s_target[i].shape))\n",
    "    \n",
    "    tmp = None\n",
    "    for j in range(4) : \n",
    "        if i == j :\n",
    "            continue\n",
    "        if tmp is None : \n",
    "            tmp = np.inner(estim[i],target[j])*target[j]/np.inner(target[j],target[j])\n",
    "        else : \n",
    "            tmp += np.inner(estim[i],target[idx_])*target[j]/np.inner(target[j],target[j])\n",
    "    e_interf.append(tmp)\n",
    "\n",
    "\n",
    "for i in range(4) : \n",
    "    print(i)\n",
    "    print(s_target[i].shape)\n",
    "    print(e_interf[i].shape)\n",
    "    SIR = 10*np.log10((np.inner(s_target[i],s_target[i]))/np.inner(e_interf[i],e_interf[i]))\n",
    "    print(\"SIR : {}\".format(SIR))\n",
    "\n",
    "    print(\"PESQ(wb) : {}\".format(pesq(16000, target[i], estim[i], 'wb')))\n",
    "    print(\"PESQ(nb) : {}\".format(pesq(16000, target[i], estim[i], 'nb')))\n",
    "    "
   ]
  },
  {
   "cell_type": "markdown",
   "id": "e13a1dc4-f2b7-4a0d-9566-e87167c3da06",
   "metadata": {},
   "source": [
    "bss_eval_toolkit이랑 SIR은 다른데 MATLAB 코드에서는 window 별로 projection 해서 그렇게 되는것 같다. \n",
    "다만 경향성은 동일하기 때문에 괜찮지 않을까? "
   ]
  },
  {
   "cell_type": "markdown",
   "id": "0261095b-9377-4153-8a05-cf8afbc34f8b",
   "metadata": {},
   "source": [
    "https://gitlab.inria.fr/bass-db/bss_eval/-/blob/master/v3.0/bss_eval_sources.m\n",
    "\n",
    "(np.dot(a, b) / np.dot(b, b)) * b"
   ]
  },
  {
   "cell_type": "code",
   "execution_count": null,
   "id": "84341191-2d41-48e4-a475-90e95e29d786",
   "metadata": {},
   "outputs": [],
   "source": []
  },
  {
   "cell_type": "markdown",
   "id": "fd85a869-72c9-47a8-9abe-df2f279dd4f5",
   "metadata": {},
   "source": [
    "## torch : SIR & PESQ for Batch Multi-target Multi-channel  \n",
    "\n",
    "clean = [B,C,T]  \n",
    "estim = [B,C,T]  "
   ]
  },
  {
   "cell_type": "code",
   "execution_count": 10,
   "id": "0dc974a6-2630-4d3e-9193-1fda04660eea",
   "metadata": {},
   "outputs": [],
   "source": [
    "import torch\n",
    "import torchaudio"
   ]
  },
  {
   "cell_type": "markdown",
   "id": "625b149b-6070-4fff-a843-6b487e1e13cb",
   "metadata": {},
   "source": [
    "16000 -> 2,3,16000  \n",
    "Batch 연산보다 걍 for문 2개 돌리는게 지금은 편하다. dim 조절을 좀 해야해서 일단은 간단하게"
   ]
  },
  {
   "cell_type": "code",
   "execution_count": 134,
   "id": "6dbf9db2-6314-47dc-baaf-b2fadf572fc4",
   "metadata": {},
   "outputs": [],
   "source": [
    "def SIR(estim,target) :\n",
    "    if estim.shape != target.shape : \n",
    "        raise Exception(\"ERROR::metric.py::SIR:: output shape != target shape | {} != {}\".format(output.shape,target.shape))\n",
    "\n",
    "    if len(estim.shape) != 2 : \n",
    "        raise Exception(\"ERROR::metric.py::SIR:: output dim {} != 2\".format(len(output.shape)))\n",
    "    #print(\"target : {}\".format(target.shape))\n",
    "    #print(\"estim : {}\".format(estim.shape))\n",
    "    n_target  = estim.shape[0]\n",
    "    #print(n_target)\n",
    "    \n",
    "    s_target = []\n",
    "    e_interf = []\n",
    "    \n",
    "   \n",
    "    for i in range(n_target) : \n",
    "        s_target.append(torch.inner(estim[i],target[i])*target[i]/torch.inner(target[i],target[i]))\n",
    "        #print(\"s_target[{}] : {}\".format(i,s_target[i].shape))\n",
    "        \n",
    "        #print(torch.inner(estim[i],target[i]))\n",
    "\n",
    "        tmp = None\n",
    "        for j in range(n_target) : \n",
    "            if i == j :\n",
    "                continue\n",
    "            if tmp is None : \n",
    "                tmp = torch.inner(estim[i],target[j])*target[j]/torch.inner(target[j],target[j])\n",
    "            else : \n",
    "                tmp += torch.inner(estim[i],target[j])*target[j]/torch.inner(target[j],target[j])\n",
    "        e_interf.append(tmp)\n",
    "    \n",
    "    SIR =  torch.tensor(0.0)\n",
    "    for i in range(n_target) : \n",
    "        t_SIR = (torch.inner(s_target[i],s_target[i]))/torch.inner(e_interf[i],e_interf[i])\n",
    "        print(\"SIR : {}\".format(t_SIR))\n",
    "        SIR += t_SIR\n",
    "    return 10*torch.log10(SIR)"
   ]
  },
  {
   "cell_type": "code",
   "execution_count": 135,
   "id": "fa541dbd-5e9a-4ed9-a98a-4ad01e99c7f6",
   "metadata": {},
   "outputs": [
    {
     "name": "stdout",
     "output_type": "stream",
     "text": [
      "torch.Size([2, 4, 3, 16000])\n",
      "torch.Size([2, 4, 3, 16000])\n",
      "SIR : 48.117103576660156\n",
      "SIR : 40.32878112792969\n",
      "SIR : 7.798915386199951\n",
      "SIR : 29.698978424072266\n",
      "tensor(21.0018)\n",
      "SIR : 534.4221801757812\n",
      "SIR : 288.35247802734375\n",
      "SIR : 55.7760009765625\n",
      "SIR : 148.43760681152344\n",
      "tensor(30.1157)\n",
      "SIR : 86.66600036621094\n",
      "SIR : 72.64588165283203\n",
      "SIR : 9.819747924804688\n",
      "SIR : 32.90522003173828\n",
      "tensor(23.0543)\n",
      "SIR : 86.66600036621094\n",
      "SIR : 72.64588165283203\n",
      "SIR : 9.819747924804688\n",
      "SIR : 32.90522003173828\n",
      "tensor(23.0543)\n",
      "SIR : 86.66600036621094\n",
      "SIR : 72.64588165283203\n",
      "SIR : 9.819747924804688\n",
      "SIR : 32.90522003173828\n",
      "tensor(23.0543)\n",
      "SIR : 86.66600036621094\n",
      "SIR : 72.64588165283203\n",
      "SIR : 9.819747924804688\n",
      "SIR : 32.90522003173828\n",
      "tensor(23.0543)\n"
     ]
    }
   ],
   "source": [
    "target = []\n",
    "output = []\n",
    "for i in range(4) : \n",
    "    tmp_target, _ = librosa.load(\"target_\"+str(i)+\".wav\",sr=16000)\n",
    "    tmp_output, _  = librosa.load(\"39_\"+str(i)+\".wav\",sr=16000)\n",
    "    \n",
    "    target.append(tmp_target)\n",
    "    output.append(tmp_output)\n",
    "    \n",
    "target = torch.from_numpy(np.array(target))\n",
    "output = torch.from_numpy(np.array(output))\n",
    "\n",
    "# Exapnd dim to [B,N,C,T]\n",
    "target = target.repeat(2,3,1,1).permute(0,2,1,3)\n",
    "output = output.repeat(2,3,1,1).permute(0,2,1,3)\n",
    "\n",
    "# Add noise\n",
    "output[0:1,:,0:1,:] += (torch.rand(1,target.shape[1],1,target.shape[3])*2-1)\n",
    "output[0:1,:,1:2,:] += target[0:1,:,2:3,:]\n",
    "\n",
    "print(target.shape)\n",
    "print(output.shape)\n",
    "\"\"\"\n",
    "    output : wav[n_target,n_sample]\n",
    "    target : wav[n_target,n_sample]\n",
    "\"\"\"\n",
    "\n",
    "for b in range(2) : \n",
    "    for c in range(3) : \n",
    "        ret = SIR(output[b,:,c,:],target[b,:,c,:])\n",
    "        print(ret)"
   ]
  },
  {
   "cell_type": "code",
   "execution_count": 159,
   "id": "01d2ab8b-ff40-429b-9b62-cd07e2333495",
   "metadata": {},
   "outputs": [],
   "source": [
    "import pesq"
   ]
  },
  {
   "cell_type": "code",
   "execution_count": 152,
   "id": "95e47bcd-c5d3-48ae-910a-e5c25cf9314f",
   "metadata": {},
   "outputs": [],
   "source": [
    "for j in range(32) :\n",
    "    for i in range(4) : \n",
    "        #print(i)\n",
    "        wb = pesq(16000,output[0,i,0,:].detach().numpy(),target[0,i,0,:].detach().numpy(),\"wb\")\n",
    "        nb = pesq(16000,output[0,i,0,:].detach().numpy(),target[0,i,0,:].detach().numpy(),\"nb\")\n",
    "        #print(\"{} {} {}\".format(wb,nb,(wb+nb)/2))"
   ]
  },
  {
   "cell_type": "markdown",
   "id": "cc63fa8b-5392-44f1-83f6-f81b749156c9",
   "metadata": {},
   "source": [
    "# PESQ Exeception"
   ]
  },
  {
   "cell_type": "code",
   "execution_count": 163,
   "id": "939f90ed-cfc5-4e54-9375-b4bdf1740f60",
   "metadata": {},
   "outputs": [
    {
     "data": {
      "text/plain": [
       "-7"
      ]
     },
     "execution_count": 163,
     "metadata": {},
     "output_type": "execute_result"
    }
   ],
   "source": [
    " wb = pesq.pesq(16000,np.zeros(16000,np.float32),np.random.rand(16000),\"wb\",on_error=pesq.PesqError.RETURN_VALUES)"
   ]
  },
  {
   "cell_type": "code",
   "execution_count": null,
   "id": "8a74f4be-7b2d-47fa-90bd-019729fc798a",
   "metadata": {},
   "outputs": [],
   "source": []
  },
  {
   "cell_type": "code",
   "execution_count": null,
   "id": "c31fb010-ec41-4728-bb76-4b8565655a02",
   "metadata": {},
   "outputs": [],
   "source": []
  },
  {
   "cell_type": "code",
   "execution_count": 1,
   "id": "7f4cdfe3-2416-4072-92a0-e27257909dba",
   "metadata": {},
   "outputs": [],
   "source": [
    "import json\n",
    "\n",
    "path_json=\"/home/data2/kbh/LGE/DESED_eval_simu_v5/0.json\""
   ]
  },
  {
   "cell_type": "code",
   "execution_count": 2,
   "id": "1ddeb0d3-c901-4bd6-9632-a1cbedc8e37b",
   "metadata": {},
   "outputs": [],
   "source": [
    "f = open(path_json,'r')\n",
    "j = json.load(f)"
   ]
  },
  {
   "cell_type": "code",
   "execution_count": 4,
   "id": "559d3b24-3612-411c-8dfa-247f400e1ef9",
   "metadata": {},
   "outputs": [
    {
     "data": {
      "text/plain": [
       "1"
      ]
     },
     "execution_count": 4,
     "metadata": {},
     "output_type": "execute_result"
    }
   ],
   "source": [
    "j[\"n_src\"]"
   ]
  },
  {
   "cell_type": "code",
   "execution_count": 6,
   "id": "18fef3ac-241f-4b08-87bb-7669a050a0ba",
   "metadata": {},
   "outputs": [],
   "source": [
    "import glob,os"
   ]
  },
  {
   "cell_type": "code",
   "execution_count": 7,
   "id": "00fb51c8-fb33-4d0a-bee8-9d8fd43d7486",
   "metadata": {},
   "outputs": [],
   "source": [
    "xxx = [x for x in glob.glob(os.path.join(\"/home/data/kbh/CHiME4/isolated_ext/\",\"tr*\",\"*.CH1.Clean.wav\"))]"
   ]
  },
  {
   "cell_type": "code",
   "execution_count": 10,
   "id": "1cb1f0e3-51b7-4992-9dfe-7982d7dd0e5a",
   "metadata": {},
   "outputs": [
    {
     "data": {
      "text/plain": [
       "'/home/data/kbh/CHiME4/isolated_ext/tr05_caf_simu/40M_40MO0301_CAF.CH1.Clean.wav'"
      ]
     },
     "execution_count": 10,
     "metadata": {},
     "output_type": "execute_result"
    }
   ],
   "source": [
    "xxx[-1]"
   ]
  },
  {
   "cell_type": "code",
   "execution_count": null,
   "id": "ea211524-33d7-4a88-9899-627648f17273",
   "metadata": {},
   "outputs": [],
   "source": []
  },
  {
   "cell_type": "code",
   "execution_count": 13,
   "id": "5ae7eaec-921a-4308-9ca2-0681dfcb721b",
   "metadata": {},
   "outputs": [
    {
     "data": {
      "text/plain": [
       "[1, 2, 3, 4, 5, 6]"
      ]
     },
     "execution_count": 13,
     "metadata": {},
     "output_type": "execute_result"
    }
   ],
   "source": [
    "aa = [1,2,3]\n",
    "bb = [4,5,6]\n",
    "aa+=bb\n",
    "aa"
   ]
  },
  {
   "cell_type": "code",
   "execution_count": null,
   "id": "bd2bc673-b76f-489c-b22f-dee65f479070",
   "metadata": {},
   "outputs": [],
   "source": []
  }
 ],
 "metadata": {
  "kernelspec": {
   "display_name": "Python 3 (ipykernel)",
   "language": "python",
   "name": "python3"
  },
  "language_info": {
   "codemirror_mode": {
    "name": "ipython",
    "version": 3
   },
   "file_extension": ".py",
   "mimetype": "text/x-python",
   "name": "python",
   "nbconvert_exporter": "python",
   "pygments_lexer": "ipython3",
   "version": "3.9.12"
  }
 },
 "nbformat": 4,
 "nbformat_minor": 5
}
