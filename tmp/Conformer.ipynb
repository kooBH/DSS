{
 "cells": [
  {
   "cell_type": "code",
   "execution_count": 2,
   "id": "e9839c25-66fa-40dd-934e-7fd2d325cb82",
   "metadata": {},
   "outputs": [
    {
     "name": "stdout",
     "output_type": "stream",
     "text": [
      "The autoreload extension is already loaded. To reload it, use:\n",
      "  %reload_ext autoreload\n",
      "torch.Size([2, 320, 257])\n"
     ]
    }
   ],
   "source": [
    "# force re-import\n",
    "%load_ext autoreload\n",
    "%autoreload 2\n",
    "\n",
    "import os\n",
    "os.sys.path.append(\"../src\")\n",
    "import torch\n",
    "from DSS import DSS\n",
    "\n",
    "\n",
    "\n",
    "m = DSS(\"Conformer\",n_channel=5)\n",
    "x = torch.rand(2,5,320,257)\n",
    "y = m(x)\n",
    "print(y.shape)"
   ]
  },
  {
   "cell_type": "code",
   "execution_count": 4,
   "id": "75a3e59a-747b-414d-bb25-6c2e9347c604",
   "metadata": {},
   "outputs": [
    {
     "data": {
      "text/plain": [
       "[4, 4, 4]"
      ]
     },
     "execution_count": 4,
     "metadata": {},
     "output_type": "execute_result"
    }
   ],
   "source": [
    "[4]*3"
   ]
  },
  {
   "cell_type": "code",
   "execution_count": null,
   "id": "db840152-9e3b-4c06-baf4-ccc2bd59b823",
   "metadata": {},
   "outputs": [],
   "source": []
  }
 ],
 "metadata": {
  "kernelspec": {
   "display_name": "Python 3 (ipykernel)",
   "language": "python",
   "name": "python3"
  },
  "language_info": {
   "codemirror_mode": {
    "name": "ipython",
    "version": 3
   },
   "file_extension": ".py",
   "mimetype": "text/x-python",
   "name": "python",
   "nbconvert_exporter": "python",
   "pygments_lexer": "ipython3",
   "version": "3.9.12"
  }
 },
 "nbformat": 4,
 "nbformat_minor": 5
}
