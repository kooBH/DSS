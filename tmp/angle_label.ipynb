{
 "cells": [
  {
   "cell_type": "code",
   "execution_count": 1,
   "id": "c902e49d-4610-41c1-8333-2f19402edfd7",
   "metadata": {},
   "outputs": [],
   "source": [
    "import numpy as np"
   ]
  },
  {
   "cell_type": "code",
   "execution_count": 21,
   "id": "c6829612-abf4-43ec-bd4d-d538fc954e09",
   "metadata": {},
   "outputs": [
    {
     "name": "stdout",
     "output_type": "stream",
     "text": [
      "[[1 0 0]\n",
      " [3 7 7]]\n",
      "[[1 0 0]\n",
      " [3 7 7]\n",
      " [3 7 7]\n",
      " [1 0 0]]\n"
     ]
    }
   ],
   "source": [
    "pool = (np.random.rand(2,3)*10).astype(np.int16)\n",
    "print(pool)\n",
    "\n",
    "idx = [0,1,1,0]\n",
    "\n",
    "angle = pool[idx]\n",
    "\n",
    "print(angle)"
   ]
  },
  {
   "cell_type": "code",
   "execution_count": null,
   "id": "18ef9d89-4c86-47ad-8f0a-9fa308761ed5",
   "metadata": {},
   "outputs": [],
   "source": []
  }
 ],
 "metadata": {
  "kernelspec": {
   "display_name": "Python 3 (ipykernel)",
   "language": "python",
   "name": "python3"
  },
  "language_info": {
   "codemirror_mode": {
    "name": "ipython",
    "version": 3
   },
   "file_extension": ".py",
   "mimetype": "text/x-python",
   "name": "python",
   "nbconvert_exporter": "python",
   "pygments_lexer": "ipython3",
   "version": "3.9.12"
  }
 },
 "nbformat": 4,
 "nbformat_minor": 5
}
