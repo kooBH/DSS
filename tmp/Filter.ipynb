{
 "cells": [
  {
   "cell_type": "code",
   "execution_count": 32,
   "id": "bfc8d88f-6388-45cd-adb8-844fde11215b",
   "metadata": {},
   "outputs": [
    {
     "name": "stdout",
     "output_type": "stream",
     "text": [
      "0:257:257 | 0:125:125\n",
      "0:257:257 | 1:126:125\n",
      "0:257:257 | 2:127:125\n",
      "0:257:257 | 3:128:125\n",
      "0:257:257 | 4:129:125\n"
     ]
    }
   ],
   "source": [
    "import numpy as np\n",
    "\n",
    "T = 125\n",
    "F = 257\n",
    "\n",
    "L_t = 2\n",
    "L_f = 0\n",
    "\n",
    "mat = np.zeros((F+T))\n",
    "\n",
    "for t in range(2*L_t+1) : \n",
    "    for f in range(2*L_f+1):\n",
    "        f_s = f\n",
    "        f_e = F+f\n",
    "        \n",
    "        t_s = t\n",
    "        t_e = T+t\n",
    "        \n",
    "        print(\"{}:{}:{} | {}:{}:{}\".format(f_s,f_e,len(mat[f_s:f_e]),t_s,t_e,len(mat[t_s:t_e])))"
   ]
  },
  {
   "cell_type": "code",
   "execution_count": 1,
   "id": "169f7c5c-8cf8-456c-b70e-83e1158e321c",
   "metadata": {},
   "outputs": [
    {
     "name": "stderr",
     "output_type": "stream",
     "text": [
      "/home/kbh/.conda/envs/dnn/lib/python3.9/site-packages/tqdm/auto.py:22: TqdmWarning: IProgress not found. Please update jupyter and ipywidgets. See https://ipywidgets.readthedocs.io/en/stable/user_install.html\n",
      "  from .autonotebook import tqdm as notebook_tqdm\n"
     ]
    }
   ],
   "source": [
    "import torch"
   ]
  },
  {
   "cell_type": "code",
   "execution_count": 18,
   "id": "853192f5-dc1d-4473-a8ac-e972e5fba622",
   "metadata": {},
   "outputs": [],
   "source": [
    "x = (torch.rand(3,1,2)*10).to(torch.int32)\n",
    "y = (torch.rand(3,2,1)*10).to(torch.int32)"
   ]
  },
  {
   "cell_type": "code",
   "execution_count": 19,
   "id": "75b3b189-1ebe-4607-9251-bfc9ae86719c",
   "metadata": {},
   "outputs": [
    {
     "name": "stdout",
     "output_type": "stream",
     "text": [
      "torch.Size([3, 1, 2])\n",
      "torch.Size([3, 2, 1])\n",
      "torch.Size([3, 1, 1])\n",
      "tensor([[[0, 4]],\n",
      "\n",
      "        [[3, 7]],\n",
      "\n",
      "        [[8, 3]]], dtype=torch.int32)\n",
      "tensor([[[6],\n",
      "         [1]],\n",
      "\n",
      "        [[2],\n",
      "         [1]],\n",
      "\n",
      "        [[2],\n",
      "         [2]]], dtype=torch.int32)\n",
      "tensor([[[ 4]],\n",
      "\n",
      "        [[13]],\n",
      "\n",
      "        [[22]]], dtype=torch.int32)\n"
     ]
    }
   ],
   "source": [
    "print(x.shape)\n",
    "print(y.shape)\n",
    "\n",
    "z = torch.bmm(x,y)\n",
    "print(z.shape)\n",
    "\n",
    "print(x)\n",
    "print(y)\n",
    "print(z)"
   ]
  },
  {
   "cell_type": "code",
   "execution_count": null,
   "id": "7e30bf93-fcd7-4157-811b-d48b482e21ff",
   "metadata": {},
   "outputs": [],
   "source": []
  }
 ],
 "metadata": {
  "kernelspec": {
   "display_name": "Python 3 (ipykernel)",
   "language": "python",
   "name": "python3"
  },
  "language_info": {
   "codemirror_mode": {
    "name": "ipython",
    "version": 3
   },
   "file_extension": ".py",
   "mimetype": "text/x-python",
   "name": "python",
   "nbconvert_exporter": "python",
   "pygments_lexer": "ipython3",
   "version": "3.9.12"
  }
 },
 "nbformat": 4,
 "nbformat_minor": 5
}
