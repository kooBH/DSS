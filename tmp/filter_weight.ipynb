{
 "cells": [
  {
   "cell_type": "code",
   "execution_count": 1,
   "id": "0ba30c51-1a0c-45ca-8b4d-bdcaaec0f750",
   "metadata": {},
   "outputs": [
    {
     "name": "stderr",
     "output_type": "stream",
     "text": [
      "/home/kbh/.conda/envs/dnn/lib/python3.9/site-packages/tqdm/auto.py:22: TqdmWarning: IProgress not found. Please update jupyter and ipywidgets. See https://ipywidgets.readthedocs.io/en/stable/user_install.html\n",
      "  from .autonotebook import tqdm as notebook_tqdm\n"
     ]
    }
   ],
   "source": [
    "import torch\n",
    "import torch.nn"
   ]
  },
  {
   "cell_type": "markdown",
   "id": "3734823a-ce00-400b-b7b2-0de1126fdc0f",
   "metadata": {},
   "source": [
    "## in  : [B 1 C F T]\n",
    "## f   : [B 1 C F T]\n",
    "## out : [B 1 1 F T] \n",
    "\n",
    "\n",
    "$$ \\hat{Y} = X \\cdot f$$  \n",
    "\n",
    "for every TF point calculate 1xC Cx1 matmul -> 1x1"
   ]
  },
  {
   "cell_type": "code",
   "execution_count": 2,
   "id": "e2ef60d1-abfa-4cff-bf7b-8becdf2a3612",
   "metadata": {},
   "outputs": [],
   "source": [
    "B = 2\n",
    "C = 4\n",
    "F = 5\n",
    "T = 7"
   ]
  },
  {
   "cell_type": "code",
   "execution_count": 6,
   "id": "723c0d01-03e2-4b3c-8a96-648eabc809cf",
   "metadata": {},
   "outputs": [
    {
     "name": "stdout",
     "output_type": "stream",
     "text": [
      "torch.Size([2, 1, 4, 5, 7])\n",
      "torch.Size([2, 1, 4, 5, 7])\n"
     ]
    }
   ],
   "source": [
    "x = torch.rand(B,1,C,F,T)\n",
    "print(x.shape)\n",
    "\n",
    "f= torch.rand(B,1,C,F,T)\n",
    "print(f.shape)"
   ]
  },
  {
   "cell_type": "code",
   "execution_count": null,
   "id": "eb754dea-ee63-4395-8597-db9f498dc642",
   "metadata": {},
   "outputs": [],
   "source": []
  }
 ],
 "metadata": {
  "kernelspec": {
   "display_name": "Python 3 (ipykernel)",
   "language": "python",
   "name": "python3"
  },
  "language_info": {
   "codemirror_mode": {
    "name": "ipython",
    "version": 3
   },
   "file_extension": ".py",
   "mimetype": "text/x-python",
   "name": "python",
   "nbconvert_exporter": "python",
   "pygments_lexer": "ipython3",
   "version": "3.9.12"
  }
 },
 "nbformat": 4,
 "nbformat_minor": 5
}
