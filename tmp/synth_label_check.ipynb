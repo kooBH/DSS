{
 "cells": [
  {
   "cell_type": "code",
   "execution_count": 1,
   "id": "296a3269-9caa-49c7-8c57-e2c28879484e",
   "metadata": {},
   "outputs": [],
   "source": [
    "import numpy as np"
   ]
  },
  {
   "cell_type": "markdown",
   "id": "23d1b232-2229-40d1-86fa-9ec6057ed5ab",
   "metadata": {},
   "source": [
    "```python\n",
    "azimuth = np.zeros((n_src,n_frame))\n",
    "elevation = np.zeros((n_src,n_frame))\n",
    "# Calculate Angle of Direct Path\n",
    "for i in range(n_src) : \n",
    "    for j in range(n_frame) : \n",
    "        dist = np.sqrt(np.power(traj_m_adj[j,0]-traj_adj[i,j,0],2) + np.power(traj_m_adj[j,1]-traj_adj[i,j,1],2))\n",
    "\n",
    "        # azimuth\n",
    "        tmp = np.arctan((traj_m_adj[j,1]-traj_adj[i,j,1])/(traj_m_adj[j,0]-traj_adj[i,j,0]))\n",
    "        if traj_m_adj[j,0]  < traj_adj[i,j,0] : \n",
    "            azimuth[i,j] = 90 - np.degrees(tmp)\n",
    "        else : \n",
    "            azimuth[i,j] = - 90 - np.degrees(tmp)\n",
    "        # elevation\n",
    "        tmp = np.arctan(dist/(traj_adj[i,j,2] - traj_m_adj[j,2] ))\n",
    "        if traj_m_adj[j,2] < traj_adj[i,j,2] :\n",
    "            elevation[i,j] = 90 - np.degrees(tmp)\n",
    "        else :\n",
    "            elevation[i,j] = - 90 - np.degrees(tmp)\n",
    "```"
   ]
  },
  {
   "cell_type": "code",
   "execution_count": 5,
   "id": "d22bd7bb-e80e-4de2-8037-9d8a372afddb",
   "metadata": {},
   "outputs": [],
   "source": [
    "# mic array \n",
    "pos_mic=[\n",
    "    [-0.04,-0.04,0.00],\n",
    "    [-0.04,+0.04,0.00],\n",
    "    [+0.04,-0.04,0.00],\n",
    "    [+0.04,+0.04,0.00]\n",
    "]"
   ]
  },
  {
   "cell_type": "code",
   "execution_count": 49,
   "id": "ec49f042-ae5d-435a-b19e-131f6be3f0d0",
   "metadata": {},
   "outputs": [],
   "source": [
    "pos_m = [0,0,0]\n",
    "pos_1 = [-1,0,1]\n",
    "\n",
    "dist = np.sqrt(np.power(pos_m[0]-pos_1[0],2) + np.power(pos_m[1]-pos_1[1],2))"
   ]
  },
  {
   "cell_type": "code",
   "execution_count": 50,
   "id": "773e854b-4000-4f47-894b-e870b581311b",
   "metadata": {},
   "outputs": [
    {
     "name": "stdout",
     "output_type": "stream",
     "text": [
      "-90.0\n"
     ]
    }
   ],
   "source": [
    "tmp = np.arctan((pos_m[1]-pos_1[1])/(pos_m[0]-pos_1[0]+1e-17))\n",
    "if pos_m[0]  < pos_1[0] : \n",
    "    azimuth = 90 - np.degrees(tmp)\n",
    "else : \n",
    "    azimuth = - 90 - np.degrees(tmp)\n",
    "print(azimuth)"
   ]
  },
  {
   "cell_type": "code",
   "execution_count": 51,
   "id": "5fe5cbb6-8417-4c84-933f-04d0e2b14aeb",
   "metadata": {},
   "outputs": [
    {
     "name": "stdout",
     "output_type": "stream",
     "text": [
      "45.0\n"
     ]
    }
   ],
   "source": [
    "# elevation\n",
    "tmp = np.arctan(dist/(pos_1[2] - pos_m[2] +1e-17))\n",
    "if pos_m[2] < pos_1[2] :\n",
    "    elevation = 90 - np.degrees(tmp)\n",
    "else :\n",
    "    elevation = - 90 - np.degrees(tmp)\n",
    "print(elevation)"
   ]
  },
  {
   "cell_type": "code",
   "execution_count": 53,
   "id": "d1b19f05-1c05-401c-88ae-7d371e274d52",
   "metadata": {},
   "outputs": [
    {
     "name": "stdout",
     "output_type": "stream",
     "text": [
      "4\n",
      "3\n",
      "4\n",
      "2\n",
      "3\n",
      "2\n",
      "4\n",
      "3\n",
      "4\n",
      "1\n",
      "3\n",
      "1\n",
      "4\n",
      "2\n",
      "4\n",
      "1\n",
      "2\n",
      "1\n",
      "3\n",
      "2\n",
      "3\n",
      "1\n",
      "2\n",
      "1\n"
     ]
    }
   ],
   "source": [
    "from itertools import permutations\n",
    "A = [1,2,3,4]\n",
    "\n",
    "for i in list(permutations(A)):\n",
    "    print(i[3])"
   ]
  },
  {
   "cell_type": "code",
   "execution_count": null,
   "id": "68a7e658-9473-428d-87d0-573e15c2823d",
   "metadata": {},
   "outputs": [],
   "source": []
  }
 ],
 "metadata": {
  "kernelspec": {
   "display_name": "Python 3 (ipykernel)",
   "language": "python",
   "name": "python3"
  },
  "language_info": {
   "codemirror_mode": {
    "name": "ipython",
    "version": 3
   },
   "file_extension": ".py",
   "mimetype": "text/x-python",
   "name": "python",
   "nbconvert_exporter": "python",
   "pygments_lexer": "ipython3",
   "version": "3.9.12"
  }
 },
 "nbformat": 4,
 "nbformat_minor": 5
}
