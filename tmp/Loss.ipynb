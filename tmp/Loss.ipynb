{
 "cells": [
  {
   "cell_type": "code",
   "execution_count": 1,
   "id": "0ebf43a6-0783-4d64-bc44-bbffdc84f7ff",
   "metadata": {},
   "outputs": [
    {
     "name": "stderr",
     "output_type": "stream",
     "text": [
      "/home/kbh/.conda/envs/dnn/lib/python3.9/site-packages/tqdm/auto.py:22: TqdmWarning: IProgress not found. Please update jupyter and ipywidgets. See https://ipywidgets.readthedocs.io/en/stable/user_install.html\n",
      "  from .autonotebook import tqdm as notebook_tqdm\n"
     ]
    }
   ],
   "source": [
    "import torch"
   ]
  },
  {
   "cell_type": "code",
   "execution_count": 16,
   "id": "e4105bbe-77f8-4146-b255-7c08e4cb0d17",
   "metadata": {},
   "outputs": [],
   "source": [
    "\"\"\"\n",
    "Loss_mag_wav(output,target)\n",
    "    output : [B, 2(real,imag), F, T]\n",
    "    target : [B, 2(real,imag), F, T]\n",
    "assume both are in STFT domain\n",
    "\n",
    "Wang, Zhong-Qiu, et al. \"STFT-Domain Neural Speech Enhancement with Very Low Algorithmic Latency.\" arXiv preprint arXiv:2204.09911 (2022).\n",
    "\"\"\"\n",
    "def Loss_mag_wav(output,target):\n",
    "    mag_output = torch.sqrt(torch.pow(output[:,0,:,:],2)+torch.pow(output[:,1,:,:],2))\n",
    "    mag_target = torch.sqrt(torch.pow(target[:,0,:,:],2)+torch.pow(target[:,1,:,:],2))\n",
    "\n",
    "    l_1_mag = torch.norm(torch.abs(mag_output - mag_target),p=1)\n",
    "\n",
    "    wav_output = torch.istft(output[:,0,:,:]+output[:,1,:,:]*1j,n_fft=512)\n",
    "    wav_target = torch.istft(target[:,0,:,:]+target[:,1,:,:]*1j,n_fft=512)\n",
    "    l_1_wav = torch.norm(torch.abs(wav_output - wav_target),p=1)\n",
    "\n",
    "    # mean\n",
    "    loss =  (l_1_mag + l_1_wav) / (output.shape[0]*output.shape[-1])\n",
    "\n",
    "    return loss"
   ]
  },
  {
   "cell_type": "code",
   "execution_count": 17,
   "id": "972ef585-8684-4f69-a5ad-2424ac408230",
   "metadata": {},
   "outputs": [
    {
     "name": "stdout",
     "output_type": "stream",
     "text": [
      "tensor(17.0470)\n",
      "tensor(1.6636)\n",
      "tensor(0.1695)\n",
      "tensor(0.)\n"
     ]
    }
   ],
   "source": [
    "x = torch.rand(3,2,257,4)\n",
    "y1 = x + torch.rand(3,2,257,4)*0.1\n",
    "y2 = x + torch.rand(3,2,257,4)*0.01\n",
    "y3 = x + torch.rand(3,2,257,4)*0.001\n",
    "\n",
    "\n",
    "print(Loss_mag_wav(x,y1))\n",
    "print(Loss_mag_wav(x,y2))\n",
    "print(Loss_mag_wav(x,y3))\n",
    "print(Loss_mag_wav(x,x))"
   ]
  },
  {
   "cell_type": "code",
   "execution_count": null,
   "id": "e1cacc46-f925-45e5-8c39-4ad655cd4606",
   "metadata": {},
   "outputs": [],
   "source": []
  }
 ],
 "metadata": {
  "kernelspec": {
   "display_name": "Python 3 (ipykernel)",
   "language": "python",
   "name": "python3"
  },
  "language_info": {
   "codemirror_mode": {
    "name": "ipython",
    "version": 3
   },
   "file_extension": ".py",
   "mimetype": "text/x-python",
   "name": "python",
   "nbconvert_exporter": "python",
   "pygments_lexer": "ipython3",
   "version": "3.9.12"
  }
 },
 "nbformat": 4,
 "nbformat_minor": 5
}
