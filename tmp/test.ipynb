{
 "cells": [
  {
   "cell_type": "code",
   "execution_count": 1,
   "id": "5a5485ca-0a99-494b-9517-9457d591908a",
   "metadata": {},
   "outputs": [
    {
     "name": "stderr",
     "output_type": "stream",
     "text": [
      "/home/kbh/.conda/envs/dnn/lib/python3.9/site-packages/tqdm/auto.py:22: TqdmWarning: IProgress not found. Please update jupyter and ipywidgets. See https://ipywidgets.readthedocs.io/en/stable/user_install.html\n",
      "  from .autonotebook import tqdm as notebook_tqdm\n"
     ]
    }
   ],
   "source": [
    "import torch\n",
    "import torch.nn as nn\n",
    "\n",
    "from SepFormer import SepFormerSeparator\n",
    "from cRFConvTasNet import TCN"
   ]
  },
  {
   "cell_type": "markdown",
   "id": "d668afad-a5f3-4cd9-92bf-85874e569f6b",
   "metadata": {},
   "source": [
    "```python\n",
    "    def __init__(self, N=64, C=2, L=4, H=4, K=250, Global_B=2, Local_B=4):\n",
    "\n",
    "        super(Sepformer, self).__init__()\n",
    "\n",
    "        self.N = N  # n_encoder_output_channel \n",
    "        self.C = C  # n_source\n",
    "        self.L = L  # size of encoder conv \n",
    "        self.H = H  # be careful for n_head\n",
    "        self.K = K  # size of chunk\n",
    "        self.Global_B = Global_B  # n_global_loop\n",
    "        self.Local_B = Local_B  # n_local_loop\n",
    "\n",
    "        self.encoder = Encoder(self.L, self.N)\n",
    "\n",
    "        self.separator = SepFormerSeparator(self.N, self.C, self.H, self.K, self.Global_B, self.Local_B)\n",
    "\n",
    "        self.decoder = Decoder(self.L, self.N)\n",
    "```"
   ]
  },
  {
   "cell_type": "code",
   "execution_count": 2,
   "id": "66d983d5-429a-412b-9d4b-fe914573ea7a",
   "metadata": {},
   "outputs": [],
   "source": [
    "f_ch = 256\n",
    "dim_input = 6168"
   ]
  },
  {
   "cell_type": "code",
   "execution_count": 3,
   "id": "b56de278-e23b-42dd-a8d1-0781105145d7",
   "metadata": {},
   "outputs": [],
   "source": [
    "m0  = nn.Conv1d(dim_input,f_ch,1)\n",
    "\n",
    "m1 = TCN(\n",
    "    c_in = f_ch,\n",
    "         c_out= f_ch*2,\n",
    "        kernel = 3,\n",
    "            n_successive =2,\n",
    "            n_block = 8,\n",
    "            TCN_activation=\"None\"\n",
    "        )\n",
    "m2 = SepFormerSeparator(f_ch,1,4,250,2,4)\n",
    "dim_output = 4 * 4 * 257 * ((2*1+1)*(2*1+1)) * 2\n",
    "\n",
    "m3 = nn.Conv1d(\n",
    "    f_ch,\n",
    "    dim_output,\n",
    "    1\n",
    "    )\n",
    "\n"
   ]
  },
  {
   "cell_type": "code",
   "execution_count": 4,
   "id": "a8f43ce2-70c0-4328-a569-ce46cff0598e",
   "metadata": {},
   "outputs": [
    {
     "name": "stdout",
     "output_type": "stream",
     "text": [
      "torch.Size([2, 6168, 500])\n",
      "torch.Size([2, 256, 500])\n",
      "torch.Size([2, 256, 500])\n",
      "torch.Size([2, 256, 500])\n",
      "torch.Size([2, 74016, 500])\n",
      "torch.Size([2, 4, 4, 3, 3, 257, 500, 2])\n"
     ]
    }
   ],
   "source": [
    "x = torch.rand(2,6168,500)\n",
    "print(x.shape)\n",
    "\n",
    "x1 = m0(x)\n",
    "print(x1.shape)\n",
    "\n",
    "x2 = m1(x1)\n",
    "print(x2.shape)\n",
    "\n",
    "x3 = m2(x2)\n",
    "print(x3.shape)\n",
    "\n",
    "x4 = m3(x3)\n",
    "print(x4.shape)\n",
    "\n",
    "filter = torch.reshape(x4,(2,4,4,3,3,257,500,2))\n",
    "print(filter.shape)"
   ]
  },
  {
   "cell_type": "markdown",
   "id": "b0776e49-78b9-4176-b6b4-4c50f25dd0af",
   "metadata": {},
   "source": [
    "### "
   ]
  },
  {
   "cell_type": "code",
   "execution_count": 1,
   "id": "074528a8-e3bf-479f-859b-d0428f13ca34",
   "metadata": {},
   "outputs": [
    {
     "name": "stderr",
     "output_type": "stream",
     "text": [
      "/home/kbh/.conda/envs/dnn/lib/python3.9/site-packages/tqdm/auto.py:22: TqdmWarning: IProgress not found. Please update jupyter and ipywidgets. See https://ipywidgets.readthedocs.io/en/stable/user_install.html\n",
      "  from .autonotebook import tqdm as notebook_tqdm\n"
     ]
    }
   ],
   "source": [
    "import torch"
   ]
  },
  {
   "cell_type": "code",
   "execution_count": 2,
   "id": "8d5bfd67-7aa8-4b96-8a35-713a9405bee4",
   "metadata": {},
   "outputs": [
    {
     "name": "stdout",
     "output_type": "stream",
     "text": [
      "torch.Size([2, 12, 5])\n"
     ]
    }
   ],
   "source": [
    "x = torch.rand(2,3,4,5)\n",
    "X = x.reshape(2,-1,5)\n",
    "print(X.shape)"
   ]
  },
  {
   "cell_type": "code",
   "execution_count": 3,
   "id": "db651a9d-7ffe-4f6e-bbd1-ca86d0c73d5e",
   "metadata": {},
   "outputs": [
    {
     "ename": "TypeError",
     "evalue": "expected Tensor as element 0 in argument 0, but got NoneType",
     "output_type": "error",
     "traceback": [
      "\u001b[0;31m---------------------------------------------------------------------------\u001b[0m",
      "\u001b[0;31mTypeError\u001b[0m                                 Traceback (most recent call last)",
      "Input \u001b[0;32mIn [3]\u001b[0m, in \u001b[0;36m<cell line: 3>\u001b[0;34m()\u001b[0m\n\u001b[1;32m      1\u001b[0m Z \u001b[38;5;241m=\u001b[39m \u001b[38;5;28;01mNone\u001b[39;00m\n\u001b[1;32m      2\u001b[0m x \u001b[38;5;241m=\u001b[39m torch\u001b[38;5;241m.\u001b[39mrand(\u001b[38;5;241m4\u001b[39m,\u001b[38;5;241m3\u001b[39m)\n\u001b[0;32m----> 3\u001b[0m y \u001b[38;5;241m=\u001b[39m \u001b[43mtorch\u001b[49m\u001b[38;5;241;43m.\u001b[39;49m\u001b[43mcat\u001b[49m\u001b[43m(\u001b[49m\u001b[43m[\u001b[49m\u001b[43mZ\u001b[49m\u001b[43m,\u001b[49m\u001b[43mx\u001b[49m\u001b[43m]\u001b[49m\u001b[43m,\u001b[49m\u001b[43mdim\u001b[49m\u001b[38;5;241;43m=\u001b[39;49m\u001b[38;5;241;43m1\u001b[39;49m\u001b[43m)\u001b[49m\n\u001b[1;32m      4\u001b[0m \u001b[38;5;28mprint\u001b[39m(y\u001b[38;5;241m.\u001b[39mshape)\n",
      "\u001b[0;31mTypeError\u001b[0m: expected Tensor as element 0 in argument 0, but got NoneType"
     ]
    }
   ],
   "source": [
    "Z = None\n",
    "x = torch.rand(4,3)\n",
    "y = torch.cat([Z,x],dim=1)\n",
    "print(y.shape)"
   ]
  },
  {
   "cell_type": "code",
   "execution_count": null,
   "id": "15db4a54-6e81-4188-bcba-5702ebe5f19c",
   "metadata": {},
   "outputs": [],
   "source": []
  }
 ],
 "metadata": {
  "kernelspec": {
   "display_name": "Python 3 (ipykernel)",
   "language": "python",
   "name": "python3"
  },
  "language_info": {
   "codemirror_mode": {
    "name": "ipython",
    "version": 3
   },
   "file_extension": ".py",
   "mimetype": "text/x-python",
   "name": "python",
   "nbconvert_exporter": "python",
   "pygments_lexer": "ipython3",
   "version": "3.9.12"
  }
 },
 "nbformat": 4,
 "nbformat_minor": 5
}
