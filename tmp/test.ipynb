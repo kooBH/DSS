{
 "cells": [
  {
   "cell_type": "code",
   "execution_count": 1,
   "id": "5a5485ca-0a99-494b-9517-9457d591908a",
   "metadata": {},
   "outputs": [
    {
     "name": "stderr",
     "output_type": "stream",
     "text": [
      "/home/kbh/.conda/envs/dnn/lib/python3.9/site-packages/tqdm/auto.py:22: TqdmWarning: IProgress not found. Please update jupyter and ipywidgets. See https://ipywidgets.readthedocs.io/en/stable/user_install.html\n",
      "  from .autonotebook import tqdm as notebook_tqdm\n"
     ]
    }
   ],
   "source": [
    "import torch\n",
    "import torch.nn as nn\n",
    "\n",
    "from SepFormer import SepFormerSeparator\n",
    "from cRFConvTasNet import TCN"
   ]
  },
  {
   "cell_type": "markdown",
   "id": "d668afad-a5f3-4cd9-92bf-85874e569f6b",
   "metadata": {},
   "source": [
    "```python\n",
    "    def __init__(self, N=64, C=2, L=4, H=4, K=250, Global_B=2, Local_B=4):\n",
    "\n",
    "        super(Sepformer, self).__init__()\n",
    "\n",
    "        self.N = N  # n_encoder_output_channel \n",
    "        self.C = C  # n_source\n",
    "        self.L = L  # size of encoder conv \n",
    "        self.H = H  # be careful for n_head\n",
    "        self.K = K  # size of chunk\n",
    "        self.Global_B = Global_B  # n_global_loop\n",
    "        self.Local_B = Local_B  # n_local_loop\n",
    "\n",
    "        self.encoder = Encoder(self.L, self.N)\n",
    "\n",
    "        self.separator = SepFormerSeparator(self.N, self.C, self.H, self.K, self.Global_B, self.Local_B)\n",
    "\n",
    "        self.decoder = Decoder(self.L, self.N)\n",
    "```"
   ]
  },
  {
   "cell_type": "code",
   "execution_count": 2,
   "id": "66d983d5-429a-412b-9d4b-fe914573ea7a",
   "metadata": {},
   "outputs": [],
   "source": [
    "f_ch = 256\n",
    "dim_input = 6168"
   ]
  },
  {
   "cell_type": "code",
   "execution_count": 3,
   "id": "b56de278-e23b-42dd-a8d1-0781105145d7",
   "metadata": {},
   "outputs": [],
   "source": [
    "m0  = nn.Conv1d(dim_input,f_ch,1)\n",
    "\n",
    "m1 = TCN(\n",
    "    c_in = f_ch,\n",
    "         c_out= f_ch*2,\n",
    "        kernel = 3,\n",
    "            n_successive =2,\n",
    "            n_block = 8,\n",
    "            TCN_activation=\"None\"\n",
    "        )\n",
    "m2 = SepFormerSeparator(f_ch,1,4,250,2,4)\n",
    "dim_output = 4 * 4 * 257 * ((2*1+1)*(2*1+1)) * 2\n",
    "\n",
    "m3 = nn.Conv1d(\n",
    "    f_ch,\n",
    "    dim_output,\n",
    "    1\n",
    "    )\n",
    "\n"
   ]
  },
  {
   "cell_type": "code",
   "execution_count": 4,
   "id": "a8f43ce2-70c0-4328-a569-ce46cff0598e",
   "metadata": {},
   "outputs": [
    {
     "name": "stdout",
     "output_type": "stream",
     "text": [
      "torch.Size([2, 6168, 500])\n",
      "torch.Size([2, 256, 500])\n",
      "torch.Size([2, 256, 500])\n",
      "torch.Size([2, 256, 500])\n",
      "torch.Size([2, 74016, 500])\n",
      "torch.Size([2, 4, 4, 3, 3, 257, 500, 2])\n"
     ]
    }
   ],
   "source": [
    "x = torch.rand(2,6168,500)\n",
    "print(x.shape)\n",
    "\n",
    "x1 = m0(x)\n",
    "print(x1.shape)\n",
    "\n",
    "x2 = m1(x1)\n",
    "print(x2.shape)\n",
    "\n",
    "x3 = m2(x2)\n",
    "print(x3.shape)\n",
    "\n",
    "x4 = m3(x3)\n",
    "print(x4.shape)\n",
    "\n",
    "filter = torch.reshape(x4,(2,4,4,3,3,257,500,2))\n",
    "print(filter.shape)"
   ]
  },
  {
   "cell_type": "markdown",
   "id": "b0776e49-78b9-4176-b6b4-4c50f25dd0af",
   "metadata": {},
   "source": [
    "### "
   ]
  },
  {
   "cell_type": "code",
   "execution_count": null,
   "id": "074528a8-e3bf-479f-859b-d0428f13ca34",
   "metadata": {},
   "outputs": [],
   "source": []
  }
 ],
 "metadata": {
  "kernelspec": {
   "display_name": "Python 3 (ipykernel)",
   "language": "python",
   "name": "python3"
  },
  "language_info": {
   "codemirror_mode": {
    "name": "ipython",
    "version": 3
   },
   "file_extension": ".py",
   "mimetype": "text/x-python",
   "name": "python",
   "nbconvert_exporter": "python",
   "pygments_lexer": "ipython3",
   "version": "3.9.12"
  }
 },
 "nbformat": 4,
 "nbformat_minor": 5
}
