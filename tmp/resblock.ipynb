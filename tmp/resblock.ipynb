{
 "cells": [
  {
   "cell_type": "code",
   "execution_count": 1,
   "id": "1135ffe7-9ece-4213-9cec-b47f910cddc2",
   "metadata": {},
   "outputs": [
    {
     "name": "stderr",
     "output_type": "stream",
     "text": [
      "/home/kbh/.conda/envs/dnn/lib/python3.9/site-packages/tqdm/auto.py:22: TqdmWarning: IProgress not found. Please update jupyter and ipywidgets. See https://ipywidgets.readthedocs.io/en/stable/user_install.html\n",
      "  from .autonotebook import tqdm as notebook_tqdm\n"
     ]
    }
   ],
   "source": [
    "import torch\n",
    "import torch.nn as nn"
   ]
  },
  {
   "cell_type": "code",
   "execution_count": 49,
   "id": "2103ba3f-baf0-4e4e-b4fa-d91990352877",
   "metadata": {},
   "outputs": [],
   "source": [
    "class ResBlock(nn.Module):\n",
    "    def __init__(self, n_channel,norm=\"BatchNorm2d\",dropout=0.0,activation=\"PReLU\"):\n",
    "        super().__init__()\n",
    "\n",
    "        ## Normalization\n",
    "        if norm == \"BatchNorm2d\": \n",
    "            bn= nn.BatchNorm2d\n",
    "        else :\n",
    "            raise Exception(\"ERROR::ResBlock: unknown nromalization - {}\".format(norm))\n",
    "\n",
    "        if activation == 'PReLU':\n",
    "            acti = nn.PReLU()\n",
    "        else :\n",
    "            raise Exception(\"ERROR::ResBlokc:Unknown activation type \" + str(activation))\n",
    "\n",
    "        dilations= [\n",
    "            (1,1),\n",
    "            (1,2),\n",
    "            (1,4),\n",
    "            (1,8),\n",
    "            (1,16)\n",
    "        ]\n",
    "\n",
    "        self.layers=[]\n",
    "        for i in range(5):\n",
    "            self.layers.append(nn.Sequential(\n",
    "                    nn.Conv2d(n_channel,n_channel,\n",
    "                    (3,3),(1,1), # <- kernel should be (3,2)\n",
    "                    dilations[i],dilations[i],n_channel),\n",
    "                    nn.Conv2d(n_channel,n_channel,\n",
    "                    (1,1)),\n",
    "                    acti,\n",
    "                    bn(n_channel)\n",
    "                    )\n",
    "                )\n",
    "\n",
    "    def forward(self,x):\n",
    "\n",
    "        residual = self.layers[0](x)\n",
    "        print(residual.shape)\n",
    "        for i in range(1,5):\n",
    "            y = self.layers[i](residual)\n",
    "            print(y.shape)\n",
    "            residual += y\n",
    "            \n",
    "\n",
    "        return residual"
   ]
  },
  {
   "cell_type": "code",
   "execution_count": 52,
   "id": "10d651ad-1144-4661-b374-a938e695192d",
   "metadata": {},
   "outputs": [
    {
     "name": "stdout",
     "output_type": "stream",
     "text": [
      "torch.Size([2, 30, 257, 125])\n",
      "torch.Size([2, 30, 257, 125])\n",
      "torch.Size([2, 30, 257, 125])\n",
      "torch.Size([2, 30, 257, 125])\n",
      "torch.Size([2, 30, 257, 125])\n",
      "torch.Size([2, 30, 257, 125])\n"
     ]
    }
   ],
   "source": [
    "m = ResBlock(30)\n",
    "x = torch.rand(2,30,257,125)\n",
    "y = m(x)\n",
    "print(y.shape)"
   ]
  },
  {
   "cell_type": "code",
   "execution_count": null,
   "id": "17730733-4bff-4c73-be1b-8dad6686eebe",
   "metadata": {},
   "outputs": [],
   "source": []
  },
  {
   "cell_type": "code",
   "execution_count": null,
   "id": "62be7637-8ef9-48b9-b1c4-fab61eeff3f3",
   "metadata": {},
   "outputs": [],
   "source": []
  }
 ],
 "metadata": {
  "kernelspec": {
   "display_name": "Python 3 (ipykernel)",
   "language": "python",
   "name": "python3"
  },
  "language_info": {
   "codemirror_mode": {
    "name": "ipython",
    "version": 3
   },
   "file_extension": ".py",
   "mimetype": "text/x-python",
   "name": "python",
   "nbconvert_exporter": "python",
   "pygments_lexer": "ipython3",
   "version": "3.9.12"
  }
 },
 "nbformat": 4,
 "nbformat_minor": 5
}
