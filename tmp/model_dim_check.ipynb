{
 "cells": [
  {
   "cell_type": "code",
   "execution_count": 1,
   "id": "74c51736-d9ee-47b4-9c16-d0e101754124",
   "metadata": {},
   "outputs": [
    {
     "name": "stderr",
     "output_type": "stream",
     "text": [
      "/home/kbh/.conda/envs/dnn/lib/python3.9/site-packages/tqdm/auto.py:22: TqdmWarning: IProgress not found. Please update jupyter and ipywidgets. See https://ipywidgets.readthedocs.io/en/stable/user_install.html\n",
      "  from .autonotebook import tqdm as notebook_tqdm\n"
     ]
    }
   ],
   "source": [
    "import sys\n",
    "import torch\n",
    "sys.path.append(\"../src\")\n",
    "from cRFConvTasNet import cRFConvTasNet\n",
    "from ptUtils.hparams import HParam"
   ]
  },
  {
   "cell_type": "code",
   "execution_count": 3,
   "id": "c91c7f83-802e-4410-bbe4-6d87d22208dc",
   "metadata": {},
   "outputs": [],
   "source": [
    "hp = HParam(\"../config/dv5_v20.yaml\")"
   ]
  },
  {
   "cell_type": "code",
   "execution_count": 4,
   "id": "0f8e468d-e4c8-4ce7-b52d-9e5677d200d6",
   "metadata": {},
   "outputs": [
    {
     "name": "stdout",
     "output_type": "stream",
     "text": [
      "cRFConvTasNet::dim_input : 3084\n"
     ]
    }
   ],
   "source": [
    "model = cRFConvTasNet(\n",
    "        L_t=hp.model.l_filter_t,\n",
    "        L_f=hp.model.l_filter_f,\n",
    "        f_ch=hp.model.d_feature,\n",
    "        n_fft=hp.model.n_fft,\n",
    "        mask=hp.model.activation,\n",
    "        n_target=4\n",
    "    )"
   ]
  },
  {
   "cell_type": "code",
   "execution_count": 11,
   "id": "c1a2178d-ed58-410f-b59f-f1e9fb5d7f6f",
   "metadata": {},
   "outputs": [
    {
     "name": "stdout",
     "output_type": "stream",
     "text": [
      "torch.Size([1, 3084, 125])\n",
      "torch.Size([1, 4, 4, 3, 5, 257, 125])\n"
     ]
    }
   ],
   "source": [
    "F =257\n",
    "d_flat = F + 3*F + 2*4*F \n",
    "T = 125\n",
    "tmp_input = torch.zeros((1,d_flat,T))\n",
    "print(tmp_input.shape)\n",
    "out = model(tmp_input)\n",
    "print(out.shape)"
   ]
  },
  {
   "cell_type": "code",
   "execution_count": 15,
   "id": "6a33d89d-8a0f-49bf-b4a4-a6afb69f5ca7",
   "metadata": {},
   "outputs": [
    {
     "name": "stdout",
     "output_type": "stream",
     "text": [
      "torch.Size([1, 3084, 31])\n",
      "torch.Size([1, 4, 4, 3, 5, 257, 31])\n"
     ]
    }
   ],
   "source": [
    "F =257\n",
    "d_flat = F + 3*F + 2*4*F \n",
    "T = 31\n",
    "tmp_input = torch.zeros((1,d_flat,T))\n",
    "print(tmp_input.shape)\n",
    "out = model(tmp_input)\n",
    "print(out.shape)"
   ]
  },
  {
   "cell_type": "code",
   "execution_count": 18,
   "id": "955117a5-571a-49b8-b4ef-5390538f92e9",
   "metadata": {},
   "outputs": [
    {
     "data": {
      "text/plain": [
       "'1_2_3_4'"
      ]
     },
     "execution_count": 18,
     "metadata": {},
     "output_type": "execute_result"
    }
   ],
   "source": [
    "\n",
    "lll = [1,2,3,4]\n",
    "\"_\".join([str(a) for a in lll])"
   ]
  },
  {
   "cell_type": "code",
   "execution_count": 25,
   "id": "b4bccfa6-3dbe-456f-a3a1-6e540c1c96ea",
   "metadata": {},
   "outputs": [
    {
     "name": "stdout",
     "output_type": "stream",
     "text": [
      "(1, 2, 3, 4)\n",
      "1_2_3_4\n",
      "(1, 2, 4, 3)\n",
      "1_2_4_3\n",
      "(1, 3, 2, 4)\n",
      "1_3_2_4\n",
      "(1, 3, 4, 2)\n",
      "1_3_4_2\n",
      "(1, 4, 2, 3)\n",
      "1_4_2_3\n",
      "(1, 4, 3, 2)\n",
      "1_4_3_2\n",
      "(2, 1, 3, 4)\n",
      "2_1_3_4\n",
      "(2, 1, 4, 3)\n",
      "2_1_4_3\n",
      "(2, 3, 1, 4)\n",
      "2_3_1_4\n",
      "(2, 3, 4, 1)\n",
      "2_3_4_1\n",
      "(2, 4, 1, 3)\n",
      "2_4_1_3\n",
      "(2, 4, 3, 1)\n",
      "2_4_3_1\n",
      "(3, 1, 2, 4)\n",
      "3_1_2_4\n",
      "(3, 1, 4, 2)\n",
      "3_1_4_2\n",
      "(3, 2, 1, 4)\n",
      "3_2_1_4\n",
      "(3, 2, 4, 1)\n",
      "3_2_4_1\n",
      "(3, 4, 1, 2)\n",
      "3_4_1_2\n",
      "(3, 4, 2, 1)\n",
      "3_4_2_1\n",
      "(4, 1, 2, 3)\n",
      "4_1_2_3\n",
      "(4, 1, 3, 2)\n",
      "4_1_3_2\n",
      "(4, 2, 1, 3)\n",
      "4_2_1_3\n",
      "(4, 2, 3, 1)\n",
      "4_2_3_1\n",
      "(4, 3, 1, 2)\n",
      "4_3_1_2\n",
      "(4, 3, 2, 1)\n",
      "4_3_2_1\n"
     ]
    }
   ],
   "source": [
    "from itertools import permutations\n",
    "for i in list(permutations(lll, 4)):\n",
    "    print(i)\n",
    "    print(\"_\".join([str(a) for a in i]))"
   ]
  },
  {
   "cell_type": "code",
   "execution_count": null,
   "id": "c8f868e3-09c4-4745-9d43-8c41dbe5bc09",
   "metadata": {},
   "outputs": [],
   "source": []
  }
 ],
 "metadata": {
  "kernelspec": {
   "display_name": "Python 3 (ipykernel)",
   "language": "python",
   "name": "python3"
  },
  "language_info": {
   "codemirror_mode": {
    "name": "ipython",
    "version": 3
   },
   "file_extension": ".py",
   "mimetype": "text/x-python",
   "name": "python",
   "nbconvert_exporter": "python",
   "pygments_lexer": "ipython3",
   "version": "3.9.12"
  }
 },
 "nbformat": 4,
 "nbformat_minor": 5
}
