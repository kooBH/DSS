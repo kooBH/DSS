{
 "cells": [
  {
   "cell_type": "code",
   "execution_count": 13,
   "id": "cc01155e-daf5-46aa-8066-9a8df1794248",
   "metadata": {},
   "outputs": [],
   "source": [
    "import torch\n",
    "import librosa\n",
    "import numpy as np"
   ]
  },
  {
   "cell_type": "code",
   "execution_count": 7,
   "id": "6b1bff5a-b321-42e6-b8e7-18ac50368b29",
   "metadata": {},
   "outputs": [
    {
     "data": {
      "text/plain": [
       "(4, 16000)"
      ]
     },
     "execution_count": 7,
     "metadata": {},
     "output_type": "execute_result"
    }
   ],
   "source": [
    "x,_ = librosa.load(\"4004.wav\",sr=16000,mono=False)\n",
    "x.shape"
   ]
  },
  {
   "cell_type": "code",
   "execution_count": 8,
   "id": "47cb8f29-3d2e-440f-a9f8-d706b5f75ed0",
   "metadata": {},
   "outputs": [],
   "source": [
    "x = torch.from_numpy(x)"
   ]
  },
  {
   "cell_type": "code",
   "execution_count": 9,
   "id": "d698f4e5-b30c-46c1-ba3f-aab6cdac69c8",
   "metadata": {},
   "outputs": [
    {
     "data": {
      "text/plain": [
       "torch.Size([4, 257, 126])"
      ]
     },
     "execution_count": 9,
     "metadata": {},
     "output_type": "execute_result"
    }
   ],
   "source": [
    "stft = torch.stft(x,n_fft=512,center=True,return_complex=True)\n",
    "stft.shape"
   ]
  },
  {
   "cell_type": "code",
   "execution_count": 10,
   "id": "6744d271-af65-4f91-bae1-5daed0b633a1",
   "metadata": {},
   "outputs": [
    {
     "data": {
      "text/plain": [
       "torch.Size([3, 257, 126])"
      ]
     },
     "execution_count": 10,
     "metadata": {},
     "output_type": "execute_result"
    }
   ],
   "source": [
    "d = stft[1:,:,:]/(stft[0,:,:]+1e-13)\n",
    "d.shape"
   ]
  },
  {
   "cell_type": "code",
   "execution_count": 12,
   "id": "457c9d7d-de67-4845-b49a-2d83399780f7",
   "metadata": {},
   "outputs": [
    {
     "name": "stdout",
     "output_type": "stream",
     "text": [
      "torch.Size([6, 257, 126])\n"
     ]
    }
   ],
   "source": [
    "d = stft[1:,:,:]/(stft[0,:,:]+1e-13)\n",
    "for i in range(1,stft.shape[0]) :\n",
    "    t = stft[i+1:,:,:]/(stft[i,:,:]+1e-13)\n",
    "    d = torch.cat((d,t),dim=0)\n",
    "    \n",
    "print(d.shape)"
   ]
  },
  {
   "cell_type": "code",
   "execution_count": 17,
   "id": "608c1486-bc06-4e09-b33f-39d754a4df6c",
   "metadata": {},
   "outputs": [
    {
     "name": "stdout",
     "output_type": "stream",
     "text": [
      "torch.Size([2, 4])\n"
     ]
    }
   ],
   "source": [
    "x= torch.rand(2,3,4)\n",
    "z = torch.sum(x,1)\n",
    "print(z.shape)"
   ]
  },
  {
   "cell_type": "code",
   "execution_count": null,
   "id": "cc19c0dd-9b3b-4f3d-84c0-d511f96cca83",
   "metadata": {},
   "outputs": [],
   "source": []
  }
 ],
 "metadata": {
  "kernelspec": {
   "display_name": "Python 3 (ipykernel)",
   "language": "python",
   "name": "python3"
  },
  "language_info": {
   "codemirror_mode": {
    "name": "ipython",
    "version": 3
   },
   "file_extension": ".py",
   "mimetype": "text/x-python",
   "name": "python",
   "nbconvert_exporter": "python",
   "pygments_lexer": "ipython3",
   "version": "3.9.12"
  }
 },
 "nbformat": 4,
 "nbformat_minor": 5
}
