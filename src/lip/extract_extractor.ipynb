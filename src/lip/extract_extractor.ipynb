{
 "cells": [
  {
   "cell_type": "code",
   "execution_count": 1,
   "id": "6a9759b2-9cd9-480b-86cf-8c80a921de9f",
   "metadata": {},
   "outputs": [],
   "source": [
    "# force re-import\n",
    "%load_ext autoreload\n",
    "%autoreload 2"
   ]
  },
  {
   "cell_type": "code",
   "execution_count": 2,
   "id": "fae6eb48-7a90-47aa-8320-59c09f1b36b9",
   "metadata": {},
   "outputs": [
    {
     "name": "stderr",
     "output_type": "stream",
     "text": [
      "/home/kbh/.conda/envs/dnn/lib/python3.9/site-packages/tqdm/auto.py:22: TqdmWarning: IProgress not found. Please update jupyter and ipywidgets. See https://ipywidgets.readthedocs.io/en/stable/user_install.html\n",
      "  from .autonotebook import tqdm as notebook_tqdm\n"
     ]
    },
    {
     "name": "stdout",
     "output_type": "stream",
     "text": [
      "The autoreload extension is already loaded. To reload it, use:\n",
      "  %reload_ext autoreload\n"
     ]
    }
   ],
   "source": [
    "import numpy as np\n",
    "from tqdm import tqdm\n",
    "\n",
    "import torch\n",
    "import torch.nn as nn\n",
    "import torch.nn.functional as F\n",
    "\n",
    "import math\n",
    "\n",
    "from collections import OrderedDict\n",
    "\n",
    "# force re-import\n",
    "%load_ext autoreload\n",
    "%autoreload 2\n",
    "\n",
    "from densetcn import *\n",
    "from resnet import *\n",
    "from preprocess import *\n",
    "from feature import *"
   ]
  },
  {
   "cell_type": "code",
   "execution_count": 3,
   "id": "bdae2a72-dca1-425b-bddf-a97ed7400c11",
   "metadata": {},
   "outputs": [],
   "source": [
    "class Lipreading(nn.Module):\n",
    "    # configs/lrw_resnet18_dctcn_boundary.json\n",
    "    def __init__(self, \n",
    "                 modality='video', \n",
    "                 hidden_dim=256, \n",
    "                 backbone_type='resnet', \n",
    "                 num_classes=500,\n",
    "                 relu_type='swish', \n",
    "                 tcn_options={}, \n",
    "                 densetcn_options={\n",
    "                 \"block_config\": [\n",
    "                    3,\n",
    "                    3,\n",
    "                    3,\n",
    "                    3\n",
    "                ],\n",
    "                \"growth_rate_set\": [\n",
    "                    384,\n",
    "                    384,\n",
    "                    384,\n",
    "                    384\n",
    "                ],\n",
    "                \"kernel_size_set\": [\n",
    "                    3,\n",
    "                    5,\n",
    "                    7\n",
    "                ],\n",
    "                \"dilation_size_set\": [\n",
    "                    1,\n",
    "                    2,\n",
    "                    5\n",
    "                ],\n",
    "                \"reduced_size\": 512,\n",
    "                \"squeeze_excitation\": True,\n",
    "                \"dropout\": 0.2,\n",
    "                 }, \n",
    "                 width_mult=1.0,\n",
    "                 use_boundary=True, \n",
    "                 extract_feats=True\n",
    "                 ):\n",
    "        super(Lipreading, self).__init__()\n",
    "        self.extract_feats = extract_feats\n",
    "        self.backbone_type = backbone_type\n",
    "        self.modality = modality\n",
    "        self.use_boundary = use_boundary\n",
    "\n",
    "\n",
    "        self.frontend_nout = 64\n",
    "        self.backend_out = 512\n",
    "        self.trunk = ResNet(BasicBlock, [2, 2, 2, 2], relu_type=relu_type)\n",
    "\n",
    "        # -- frontend3D\n",
    "        if relu_type == 'relu':\n",
    "            frontend_relu = nn.ReLU(True)\n",
    "        elif relu_type == 'prelu':\n",
    "            frontend_relu = nn.PReLU( self.frontend_nout )\n",
    "        elif relu_type == 'swish':\n",
    "            frontend_relu = Swish()\n",
    "\n",
    "        self.frontend3D = nn.Sequential(\n",
    "                    nn.Conv3d(1, self.frontend_nout, kernel_size=(5, 7, 7), stride=(1, 2, 2), padding=(2, 3, 3), bias=False),\n",
    "                    nn.BatchNorm3d(self.frontend_nout),\n",
    "                    frontend_relu,\n",
    "                    nn.MaxPool3d( kernel_size=(1, 3, 3), stride=(1, 2, 2), padding=(0, 1, 1)))\n",
    "        \"\"\"\n",
    "        self.tcn =  DenseTCN( block_config=densetcn_options['block_config'],\n",
    "                                growth_rate_set=densetcn_options['growth_rate_set'],\n",
    "                                input_size=self.backend_out if not self.use_boundary else self.backend_out+1,\n",
    "                                reduced_size=densetcn_options['reduced_size'],\n",
    "                                num_classes=num_classes,\n",
    "                                kernel_size_set=densetcn_options['kernel_size_set'],\n",
    "                                dilation_size_set=densetcn_options['dilation_size_set'],\n",
    "                                dropout=densetcn_options['dropout'],\n",
    "                                relu_type=relu_type,\n",
    "                                squeeze_excitation=densetcn_options['squeeze_excitation'],\n",
    "                            )\n",
    "        \"\"\"\n",
    "        # -- initialize\n",
    "        self._initialize_weights_randomly()\n",
    "\n",
    "\n",
    "    def forward(self, x, lengths, boundaries=None):\n",
    "        B, C, T, H, W = x.size()\n",
    "        x = self.frontend3D(x)\n",
    "        Tnew = x.shape[2]    # outpu should be B x C2 x Tnew x H x W\n",
    "        x = threeD_to_2D_tensor( x )\n",
    "        x = self.trunk(x)\n",
    "\n",
    "        if self.backbone_type == 'shufflenet':\n",
    "            x = x.view(-1, self.stage_out_channels)\n",
    "        x = x.view(B, Tnew, x.size(1))\n",
    "\n",
    "\n",
    "        # -- duration\n",
    "        if self.use_boundary:\n",
    "            x = torch.cat([x, boundaries], dim=-1)\n",
    "        return x\n",
    "        #return x if self.extract_feats else self.tcn(x, lengths, B)\n",
    "    \n",
    "    def _initialize_weights_randomly(self):\n",
    "\n",
    "        use_sqrt = True\n",
    "\n",
    "        if use_sqrt:\n",
    "            def f(n):\n",
    "                return math.sqrt( 2.0/float(n) )\n",
    "        else:\n",
    "            def f(n):\n",
    "                return 2.0/float(n)\n",
    "\n",
    "        for m in self.modules():\n",
    "            if isinstance(m, nn.Conv3d) or isinstance(m, nn.Conv2d) or isinstance(m, nn.Conv1d):\n",
    "                n = np.prod( m.kernel_size ) * m.out_channels\n",
    "                m.weight.data.normal_(0, f(n))\n",
    "                if m.bias is not None:\n",
    "                    m.bias.data.zero_()\n",
    "\n",
    "            elif isinstance(m, nn.BatchNorm3d) or isinstance(m, nn.BatchNorm2d) or isinstance(m, nn.BatchNorm1d):\n",
    "                m.weight.data.fill_(1)\n",
    "                m.bias.data.zero_()\n",
    "\n",
    "            elif isinstance(m, nn.Linear):\n",
    "                n = float(m.weight.data[0].nelement())\n",
    "                m.weight.data = m.weight.data.normal_(0, f(n))"
   ]
  },
  {
   "cell_type": "code",
   "execution_count": 4,
   "id": "d574569b-1de7-4754-a43c-24b9117ee23a",
   "metadata": {},
   "outputs": [],
   "source": [
    "m = Lipreading()"
   ]
  },
  {
   "cell_type": "code",
   "execution_count": 7,
   "id": "8a3cba78-caa1-40e9-9fd8-d6c9eb3d7df8",
   "metadata": {},
   "outputs": [],
   "source": [
    "pkl = torch.load(\"lrw_resnet18_dctcn_video_boundary.pth.tar\")\n",
    "state_dict = pkl[\"model_state_dict\"]\n",
    "m.load_state_dict(state_dict, strict = False)\n",
    "torch.save(m.state_dict(), str('extractor_lrw_resnet18_dctcn_video_boundary.pt'))"
   ]
  },
  {
   "cell_type": "code",
   "execution_count": 9,
   "id": "90be7bf2-1ee0-4e4b-b22b-569f532cff1a",
   "metadata": {},
   "outputs": [],
   "source": []
  },
  {
   "cell_type": "code",
   "execution_count": 11,
   "id": "33ed31dc-7c2a-4ec8-8ab2-fb2e94db7420",
   "metadata": {},
   "outputs": [
    {
     "data": {
      "text/plain": [
       "<All keys matched successfully>"
      ]
     },
     "execution_count": 11,
     "metadata": {},
     "output_type": "execute_result"
    }
   ],
   "source": []
  },
  {
   "cell_type": "code",
   "execution_count": null,
   "id": "f4917802-3493-42dc-a264-8ea590d43152",
   "metadata": {},
   "outputs": [],
   "source": []
  }
 ],
 "metadata": {
  "kernelspec": {
   "display_name": "Python 3 (ipykernel)",
   "language": "python",
   "name": "python3"
  },
  "language_info": {
   "codemirror_mode": {
    "name": "ipython",
    "version": 3
   },
   "file_extension": ".py",
   "mimetype": "text/x-python",
   "name": "python",
   "nbconvert_exporter": "python",
   "pygments_lexer": "ipython3",
   "version": "3.9.12"
  }
 },
 "nbformat": 4,
 "nbformat_minor": 5
}
