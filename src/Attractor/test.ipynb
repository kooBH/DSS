{
 "cells": [
  {
   "cell_type": "code",
   "execution_count": 216,
   "id": "1c658443-7331-4421-bff6-9dcee35e0ddf",
   "metadata": {},
   "outputs": [
    {
     "name": "stdout",
     "output_type": "stream",
     "text": [
      "The autoreload extension is already loaded. To reload it, use:\n",
      "  %reload_ext autoreload\n"
     ]
    }
   ],
   "source": [
    "import torch\n",
    "import torch.nn as nn\n",
    "\n",
    "# force re-import\n",
    "%load_ext autoreload\n",
    "%autoreload 2"
   ]
  },
  {
   "cell_type": "code",
   "execution_count": 217,
   "id": "9f3e772a-c7c6-4ed7-9973-3c900e76da03",
   "metadata": {},
   "outputs": [
    {
     "name": "stdout",
     "output_type": "stream",
     "text": [
      "torch.Size([2, 16000])\n"
     ]
    }
   ],
   "source": [
    "from Attractor import DirectionAttractorNet\n",
    "\n",
    "B = 2\n",
    "C = 4\n",
    "mic_pos = [[0,0,0],[1,0,0],[0,1,0],[1,1,0]]\n",
    "\n",
    "m = DirectionAttractorNet().to(\"cuda:0\")\n",
    "\n",
    "x  = torch.rand(B,C,16000).to(\"cuda:0\")\n",
    "angle = (torch.rand(B)*360).to(\"cuda:0\")\n",
    "y = m(x,angle,torch.tensor(mic_pos).unsqueeze(0).to(\"cuda:0\"))\n",
    "print(y.shape)"
   ]
  },
  {
   "cell_type": "code",
   "execution_count": 63,
   "id": "e35ae08d-bf43-40b4-b32b-0a33b141c94e",
   "metadata": {},
   "outputs": [
    {
     "name": "stdout",
     "output_type": "stream",
     "text": [
      "torch.Size([3])\n"
     ]
    }
   ],
   "source": [
    "x = torch.arange(0,3)\n",
    "print(x.shape)"
   ]
  },
  {
   "cell_type": "markdown",
   "id": "103a0826-27ab-48dc-a48b-8aa647bed315",
   "metadata": {},
   "source": [
    "# Shape"
   ]
  },
  {
   "cell_type": "code",
   "execution_count": 199,
   "id": "0cf6d188-8e50-4f07-9b14-ec3d6e4febe3",
   "metadata": {},
   "outputs": [
    {
     "name": "stdout",
     "output_type": "stream",
     "text": [
      "== input == \n",
      "X : torch.Size([2, 3, 4, 5])\n",
      "M : torch.Size([2, 4, 5])\n",
      "v : torch.Size([2, 1, 5])\n",
      "== batchwise == \n",
      "X : torch.Size([40, 3, 1])\n",
      "M : torch.Size([40, 1, 1])\n",
      "v : torch.Size([40, 1, 1])\n",
      "R : torch.Size([40, 3, 3])\n",
      "torch.Size([40, 3, 3])\n",
      "torch.Size([40, 3, 3])\n",
      "torch.Size([40, 3, 3])\n"
     ]
    }
   ],
   "source": [
    "B = 2\n",
    "C = 3\n",
    "F = 4\n",
    "T = 5\n",
    "\n",
    "X = torch.rand(B,C,F,T,dtype=torch.cfloat)*2-1\n",
    "M = torch.rand(B,F,T)\n",
    "v = torch.rand(B,1,T)\n",
    "\n",
    "print(\"== input == \")\n",
    "print(\"X : {}\".format(X.shape))\n",
    "print(\"M : {}\".format(M.shape))\n",
    "print(\"v : {}\".format(v.shape))\n",
    "\n",
    "#print(M)\n",
    "#print(v)\n",
    "\n",
    "# X * X^H\n",
    "\n",
    "X__ = torch.permute(X,(0,2,3,1))\n",
    "X__ = torch.reshape(X__,(B*F*T,C,1))\n",
    "M__ = torch.reshape(M,(B*F*T,1,1))\n",
    "v__ = v.expand(B,F,T)\n",
    "v__ = torch.reshape(v__,(B*F*T,1,1))\n",
    "print(\"== batchwise == \")\n",
    "print(\"X : {}\".format(X__.shape))\n",
    "print(\"M : {}\".format(M__.shape))\n",
    "print(\"v : {}\".format(v__.shape))\n",
    "\n",
    "#print(M__)\n",
    "#print(v__)\n",
    "\n",
    "R = torch.bmm(X__,torch.permute(X__,(0,2,1)))\n",
    "print(\"R : {}\".format(R.shape))\n",
    "# masking\n",
    "R *= v__\n",
    "R *= M__\n",
    "\n",
    "R = R + torch.eye(C)*1e-4\n",
    "\n",
    "R_inv =  torch.inverse(R)\n",
    "\n",
    "#R = torch.reshape(R,(B,F,T,C,C))\n",
    "\n",
    "print(R.shape)\n",
    "print(R_inv.shape)\n",
    "\n",
    "W = torch.bmm(R,R_inv)\n",
    "print(W.shape)"
   ]
  },
  {
   "cell_type": "code",
   "execution_count": 153,
   "id": "29ab1836-d483-402a-8c37-d04ff9f54474",
   "metadata": {},
   "outputs": [
    {
     "data": {
      "text/plain": [
       "tensor([[[ 1.0000e+00,  5.5879e-09, -5.9605e-08,  0.0000e+00],\n",
       "         [ 0.0000e+00,  1.0000e+00,  5.9605e-08, -5.9605e-08],\n",
       "         [ 5.9605e-08,  3.5390e-08,  1.0000e+00,  0.0000e+00],\n",
       "         [-1.5646e-07, -5.0757e-08, -7.4506e-08,  1.0000e+00]],\n",
       "\n",
       "        [[ 1.0000e+00,  1.7881e-07,  0.0000e+00,  7.1526e-07],\n",
       "         [-1.4901e-07,  1.0000e+00,  4.7684e-07,  7.1526e-07],\n",
       "         [-2.9802e-08,  5.9605e-08,  1.0000e+00,  1.1921e-07],\n",
       "         [ 2.9802e-08, -1.4901e-08,  1.1921e-07,  1.0000e+00]],\n",
       "\n",
       "        [[ 1.0000e+00,  7.1526e-07,  4.7684e-07, -9.5367e-07],\n",
       "         [-1.9073e-06,  1.0000e+00,  0.0000e+00, -4.7684e-07],\n",
       "         [-2.8610e-06,  0.0000e+00,  1.0000e+00,  4.7684e-07],\n",
       "         [-2.3842e-06,  7.1526e-07,  0.0000e+00,  1.0000e+00]]])"
      ]
     },
     "execution_count": 153,
     "metadata": {},
     "output_type": "execute_result"
    }
   ],
   "source": [
    "x = torch.rand(3,4,4)\n",
    "x_inv = torch.inverse(x)\n",
    "torch.bmm(x,x_inv)"
   ]
  },
  {
   "cell_type": "code",
   "execution_count": 173,
   "id": "4a7a7f53-d07d-4833-a5e9-f962703bbb9c",
   "metadata": {},
   "outputs": [
    {
     "name": "stdout",
     "output_type": "stream",
     "text": [
      "tensor([[0.3625+0.4254j],\n",
      "        [0.4639+0.6417j],\n",
      "        [0.7367+0.2248j]])\n"
     ]
    },
    {
     "data": {
      "text/plain": [
       "tensor([[0.3124-9.7332e-10j, 0.4411-3.5302e-02j, 0.3627+2.3188e-01j],\n",
       "        [0.4411+3.5302e-02j, 0.6270-1.1783e-08j, 0.4860+3.6847e-01j],\n",
       "        [0.3627-2.3188e-01j, 0.4860-3.6847e-01j, 0.5932-6.2595e-09j]])"
      ]
     },
     "execution_count": 173,
     "metadata": {},
     "output_type": "execute_result"
    }
   ],
   "source": [
    "C = torch.rand(3,1,dtype=torch.cfloat)\n",
    "print(C)\n",
    "\n",
    "torch.matmul(C,C.H)"
   ]
  },
  {
   "cell_type": "code",
   "execution_count": null,
   "id": "c3920d79-4990-4677-88f7-60f887c6c4ec",
   "metadata": {},
   "outputs": [],
   "source": []
  },
  {
   "cell_type": "code",
   "execution_count": null,
   "id": "97b03cd7-5a90-4a36-ad31-921278a63474",
   "metadata": {},
   "outputs": [],
   "source": []
  }
 ],
 "metadata": {
  "kernelspec": {
   "display_name": "Python 3 (ipykernel)",
   "language": "python",
   "name": "python3"
  },
  "language_info": {
   "codemirror_mode": {
    "name": "ipython",
    "version": 3
   },
   "file_extension": ".py",
   "mimetype": "text/x-python",
   "name": "python",
   "nbconvert_exporter": "python",
   "pygments_lexer": "ipython3",
   "version": "3.9.12"
  }
 },
 "nbformat": 4,
 "nbformat_minor": 5
}
